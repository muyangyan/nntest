{
 "cells": [
  {
   "cell_type": "code",
   "execution_count": 1,
   "id": "d73dfc7e-9ce8-4b76-b269-8517a5ac4114",
   "metadata": {},
   "outputs": [],
   "source": [
    "# This Python 3 environment comes with many helpful analytics libraries installed\n",
    "# It is defined by the kaggle/python Docker image: https://github.com/kaggle/docker-python\n",
    "# For example, here's several helpful packages to load\n",
    "\n",
    "import numpy as np # linear algebra\n",
    "import pandas as pd # data processing, CSV file I/O (e.g. pd.read_csv)\n",
    "import matplotlib.pyplot as plt\n",
    "import math\n",
    "\n",
    "# Input data files are available in the read-only \"../input/\" directory\n",
    "# For example, running this (by clicking run or pressing Shift+Enter) will list all files under the input directory\n",
    "\n",
    "import os\n",
    "for dirname, _, filenames in os.walk('/kaggle/input'):\n",
    "    for filename in filenames:\n",
    "        print(os.path.join(dirname, filename))\n",
    "    \n",
    "# You can write up to 20GB to the current directory (/kaggle/working/) that gets preserved as output when you create a version using \"Save & Run All\" \n",
    "# You can also write temporary files to /kaggle/temp/, but they won't be saved outside of the current session"
   ]
  },
  {
   "cell_type": "code",
   "execution_count": 2,
   "id": "0c9a68a5-8007-401b-a245-7d09a0f05cd3",
   "metadata": {
    "tags": []
   },
   "outputs": [],
   "source": [
    "data = pd.read_csv('train.csv')"
   ]
  },
  {
   "cell_type": "code",
   "execution_count": 3,
   "id": "3498767b-91d2-4b96-8292-e086d2b73051",
   "metadata": {
    "tags": []
   },
   "outputs": [],
   "source": [
    "def convert_one_hot(x):\n",
    "    b = np.zeros((len(x),10))\n",
    "    for i in range(len(x)):\n",
    "        a = np.zeros(10)\n",
    "        a[x[i]] = 1\n",
    "        b[i] = a\n",
    "    return b\n",
    "data = np.array(data)\n",
    "test_data = data[0:999]\n",
    "train_data = data[1000:len(data)]\n",
    "train_labels_number = train_data[:, 0]\n",
    "train_labels = convert_one_hot(train_labels_number)\n",
    "train_layers = train_data[:, 1:train_data.shape[0]]/255\n",
    "test_labels_number = test_data[:, 0]\n",
    "test_labels = convert_one_hot(test_labels_number)\n",
    "test_layers = test_data[:, 1:test_data.shape[0]]/255"
   ]
  },
  {
   "cell_type": "code",
   "execution_count": 4,
   "id": "e5f68341-b2e8-4f22-a264-79bc10142374",
   "metadata": {
    "tags": []
   },
   "outputs": [],
   "source": [
    "def sigmoid(x):\n",
    "    return 1/(1 + np.exp(-x))\n",
    "\n",
    "def d_sigmoid(x):\n",
    "    return(np.exp(x)/np.square(np.exp(x)+1) + 1e-15)\n",
    "\n",
    "def ReLU(x):\n",
    "    #return 1/(1 + np.exp(-x))\n",
    "    return np.maximum(0, x)\n",
    "\n",
    "def d_ReLU(x):\n",
    "    #return(np.exp(x)/np.square(np.exp(x)+1))\n",
    "    return x > 0\n",
    "\n",
    "def norm(x):\n",
    "    #print(np.max(x))\n",
    "    return x/(np.max(x) + 1e-15)\n",
    "\n",
    "def softmax(x):\n",
    "    return np.exp(x)/np.sum(np.exp(x))\n",
    "\n",
    "def ssd(y, p): #sum of squared differences\n",
    "    squared_diff = np.square(y - p)\n",
    "    return np.sum(squared_diff)\n",
    "\n",
    "def d_sd(y, p): #derivative of squared difference\n",
    "    return 2 * (y - p)\n",
    "\n",
    "def sum_cross_ent(y, p):\n",
    "    p += np.full(p.shape, 1e-15) #to prevent log(0)\n",
    "    return np.sum(-(y * np.log(p) + (1 - y) * np.log(1 - p)))\n",
    "\n",
    "def d_cross_ent(y, p):\n",
    "    p += np.full(p.shape, 1e-15) #to prevent division by zero\n",
    "    return ((1 - y) / (1 - p)) - (y / p)\n",
    "\n",
    "class Net: # accepts a tuple indicating the number of nodes in each layer. contains the weights array and biases vector for each layer\n",
    "\n",
    "    def __init__(self, layers): # must have atleast 2 layers (2 items in the layers tuple)\n",
    "        self.layers = layers #tuple\n",
    "        self.weights = []\n",
    "        for i in range(1, len(layers)):\n",
    "            self.weights.append(np.random.rand(layers[i],layers[i-1])/500)\n",
    "        self.biases = []\n",
    "        for i in range(1, len(layers)):\n",
    "            self.biases.append(np.random.rand(layers[i])/500)\n",
    "        self.net = [] # contains activations\n",
    "        for i in range(len(layers)):\n",
    "            self.net.append(np.zeros((layers[i])))\n",
    "\n",
    "    def dump(self):\n",
    "        print(\"DUMP========\")\n",
    "        print(self.biases)\n",
    "        print(self.weights)\n",
    "        print(self.net)\n",
    "        \n",
    "    def act(self, x):\n",
    "        return sigmoid(x)\n",
    "    \n",
    "    def d_act(self, x):\n",
    "        return d_sigmoid(x)\n",
    "        \n",
    "    def loss(self, expected, actual): #for one training example\n",
    "        #return sum_cross_ent(expected, actual)\n",
    "        return ssd(expected, actual)\n",
    "    \n",
    "    def d_loss(self, expected, actual): #for one training example\n",
    "        #return d_cross_ent(expected, actual)\n",
    "        return d_sd(expected, actual)\n",
    "    \n",
    "    def emp_loss(self, labels, inputs): #empirical loss, for whole testing set\n",
    "        loss_array = np.zeros((len(inputs)))\n",
    "        for i in range(len(inputs)):\n",
    "            output = self.forward(inputs[i])\n",
    "            loss_array[i] = self.loss(labels[i], output)\n",
    "        return np.mean(loss_array)\n",
    "    \n",
    "    def acc(self, labels_num, inputs):\n",
    "        successes = 0\n",
    "        for i in range(len(inputs)):\n",
    "            output = self.forward(inputs[i])\n",
    "            prediction = np.where(output == output.max())[0][0]\n",
    "            if prediction == labels_num[i]:\n",
    "                successes+=1\n",
    "        return successes/len(inputs)\n",
    "    \n",
    "    def forward(self, input_layer):\n",
    "        self.net[0] = input_layer\n",
    "        for i in range(1, len(self.net)):\n",
    "            self.net[i] = self.act(np.dot(self.weights[i-1], self.net[i-1]) + self.biases[i-1])\n",
    "        out = self.net[len(self.net)-1]\n",
    "        normalized = norm(out)\n",
    "        return softmax(normalized)\n",
    "    \n",
    "    def forprop(self, input_batch):\n",
    "        netlen = len(self.net)\n",
    "        layer = [0] * netlen\n",
    "        layer[0] = input_batch\n",
    "        for i in range(1, netlen):\n",
    "            TEMP = np.tile(self.biases[i-1], (len(layer[i-1]),1))\n",
    "            TEMP2 = np.dot(self.weights[i-1], layer[i-1].T).T\n",
    "            layer[i] = self.act(TEMP2 + TEMP)\n",
    "        layer[netlen-1] = np.apply_along_axis(norm,1,layer[netlen-1])\n",
    "        layer[netlen-1] = np.apply_along_axis(softmax,1,layer[netlen-1])\n",
    "        #print(\"layer\", layer[netlen-1])\n",
    "        return layer\n",
    "\n",
    "    def backprop(self, labels, batch): # for one batch\n",
    "        net = self.forprop(batch)\n",
    "        \n",
    "        d_w = []\n",
    "        for i in range(len(self.layers)-1):\n",
    "            d_w.append(np.zeros((self.layers[i+1],self.layers[i])))\n",
    "        d_b = []\n",
    "        for i in range(len(self.layers)-1):\n",
    "            d_b.append(np.zeros((self.layers[i+1])))\n",
    "        d_a = [] \n",
    "        for i in range(len(self.layers)):\n",
    "            d_a.append(np.zeros((self.layers[i])))\n",
    "            \n",
    "        for L in range(len(net[0])):\n",
    "            d_a[len(self.layers)-1] = self.d_loss(net[len(self.layers)-1][L], labels[L])\n",
    "            for i in reversed(range(len(self.layers)-1)):\n",
    "                z = np.dot(self.weights[i], net[i][L]) + self.biases[i]\n",
    "                TEMP0 = np.multiply(self.d_act(z), d_a[i+1])\n",
    "                TEMP1 = np.dot(TEMP0, self.weights[i])\n",
    "                d_a[i] = TEMP1/len(net[i+1][L])\n",
    "                d_b[i] += np.dot(self.d_act(z), d_a[i+1])/len(net[i+1][L])\n",
    "                d_w[i] += np.outer((d_a[i+1] * self.d_act(z)), net[i][L])\n",
    "                \n",
    "                #d_w[i] += (net[i][L] * self.d_act(z) * d_a[i+1])/L\n",
    "        \n",
    "        batch_size = len(batch)\n",
    "        for i in range(len(self.layers)-1):\n",
    "            d_b[i] /= batch_size\n",
    "            d_w[i] /= batch_size\n",
    "\n",
    "        return d_w, d_b\n",
    "\n",
    "    def train(self, data, labels, batch_size, rate, *, batches=0, epochs=1): #labels and data are arrays of vectors (or 2d arrays), 1 epoch\n",
    "        #np.random.shuffle(data)\n",
    "        data_batched = np.zeros((math.floor(len(data)/batch_size), batch_size, self.layers[0]))\n",
    "        labels_batched = np.zeros((math.floor(len(data)/batch_size), batch_size, self.layers[len(self.layers) - 1]))\n",
    "        for i in range(math.floor(len(data)/batch_size)):\n",
    "            for j in range(batch_size):\n",
    "                data_batched[i][j] = data[i*batch_size + j]\n",
    "                labels_batched[i][j] = labels[i*batch_size + j]\n",
    "        \n",
    "        batch_count = batches\n",
    "        if (batches == 0):\n",
    "            batch_count = len(data_batched)\n",
    "\n",
    "        step = 10\n",
    "        batch_axis = np.linspace(0,(batch_count*epochs//step)*step, batch_count*epochs//step)\n",
    "        losses = np.zeros(batch_count*epochs//step)\n",
    "        accuracies = np.zeros(batch_count*epochs//step)\n",
    "            \n",
    "        for E in range(epochs):\n",
    "            print(\"\\nepoch\", E)\n",
    "            for i in range(batch_count):\n",
    "                #self.dump()\n",
    "\n",
    "                d_weights, d_biases = self.backprop(labels_batched[i], data_batched[i])\n",
    "\n",
    "                for j in range(len(self.layers)-1):\n",
    "                    self.weights[j] = np.subtract(self.weights[j], rate * d_weights[j])\n",
    "                    #self.weights[j] = self.weights[j]/np.linalg.norm(self.weights[j])\n",
    "                    self.biases[j] = np.subtract(self.biases[j], rate * d_biases[j])\n",
    "                    #self.biases[j] = self.biases[j]/np.linalg.norm(self.biases[j])\n",
    "                if i % step == 0:\n",
    "                    this_loss = self.emp_loss(test_labels, test_layers)\n",
    "                    this_acc = self.acc(test_labels_number, test_layers)\n",
    "                    \n",
    "                    step_index = (i + (batch_count * E)) // step\n",
    "                    losses[step_index-1] = this_loss\n",
    "                    accuracies[step_index-1] = this_acc\n",
    "                    \n",
    "                    #print(\"batch\", i)\n",
    "                    #print(\"loss:\", this_loss)\n",
    "                    #print(\"accuracy:\", this_acc)\n",
    "                    #self.dump()\n",
    "        return (batch_axis, losses, accuracies)\n",
    "    \n",
    "    #takes a 28x28 image and returns a digit\n",
    "    def predict(self, input_image):\n",
    "        layer = input_image.flatten()\n",
    "        out = self.forward(layer)\n",
    "        return np.argmax(out)\n",
    "            \n",
    "        "
   ]
  },
  {
   "cell_type": "code",
   "execution_count": 5,
   "id": "61883ae1-0d69-41f5-86c1-5f45d648a5ee",
   "metadata": {
    "tags": []
   },
   "outputs": [
    {
     "name": "stdout",
     "output_type": "stream",
     "text": [
      "create net\n",
      "train\n",
      "\n",
      "epoch 0\n",
      "\n",
      "epoch 1\n",
      "\n",
      "epoch 2\n",
      "\n",
      "epoch 3\n",
      "\n",
      "epoch 4\n",
      "\n",
      "epoch 5\n",
      "\n",
      "epoch 6\n",
      "\n",
      "epoch 7\n",
      "\n",
      "epoch 8\n",
      "\n",
      "epoch 9\n"
     ]
    },
    {
     "data": {
      "image/png": "[encoded data removed]",
      "text/plain": [
       "<Figure size 640x480 with 1 Axes>"
      ]
     },
     "metadata": {},
     "output_type": "display_data"
    }
   ],
   "source": [
    "print(\"create net\")\n",
    "testnet = Net((784, 20, 10))\n",
    "\n",
    "print(\"train\")\n",
    "res = testnet.train(train_layers, train_labels, 50, 10, epochs=10)\n",
    "\n",
    "# Create a figure and axis\n",
    "fig, ax = plt.subplots()\n",
    "\n",
    "# Plot the lines\n",
    "ax.plot(res[0], res[1], label='Losses')\n",
    "ax.plot(res[0], res[2], label='Accuracies')\n",
    "\n",
    "# Customize the chart\n",
    "ax.set_title('loss and accuracy over time')\n",
    "ax.set_xlabel('batches')\n",
    "ax.set_ylabel('Y-axis')\n",
    "ax.legend()\n",
    "\n",
    "# Display the chart\n",
    "plt.show()"
   ]
  },
  {
   "cell_type": "code",
   "execution_count": 7,
   "id": "72253b75-02f8-473e-b92b-1b5ff5652c5a",
   "metadata": {
    "tags": []
   },
   "outputs": [
    {
     "data": {
      "text/plain": [
       "0.9459459459459459"
      ]
     },
     "execution_count": 7,
     "metadata": {},
     "output_type": "execute_result"
    }
   ],
   "source": [
    "testnet.acc(test_labels_number, test_layers)"
   ]
  },
  {
   "cell_type": "code",
   "execution_count": 8,
   "id": "97f0e379-069d-47c2-89d0-379b9f649ca7",
   "metadata": {
    "tags": []
   },
   "outputs": [],
   "source": [
    "# Prediction Interface"
   ]
  },
  {
   "cell_type": "code",
   "execution_count": 9,
   "id": "2981bec6-625d-468e-90de-b50b598034f4",
   "metadata": {
    "tags": []
   },
   "outputs": [],
   "source": [
    "imgs = np.delete(data, 0, axis=1)\n",
    "imgs = np.array([row.reshape(28, 28) for row in imgs])"
   ]
  },
  {
   "cell_type": "code",
   "execution_count": 17,
   "id": "7d4bf4dd-2fb3-4141-8540-042d67436e74",
   "metadata": {
    "tags": []
   },
   "outputs": [],
   "source": [
    "select = 17"
   ]
  },
  {
   "cell_type": "code",
   "execution_count": 74,
   "id": "e6d09338-6476-4830-945c-78ad36d8d097",
   "metadata": {
    "tags": []
   },
   "outputs": [
    {
     "data": {
      "image/png": "[encoded data removed]",
      "text/plain": [
       "<Figure size 640x480 with 1 Axes>"
      ]
     },
     "metadata": {},
     "output_type": "display_data"
    },
    {
     "name": "stdout",
     "output_type": "stream",
     "text": [
      "prediction: 3\n",
      "truth: 2\n"
     ]
    },
    {
     "name": "stderr",
     "output_type": "stream",
     "text": [
      "C:\\Users\\muyan\\AppData\\Local\\Temp\\ipykernel_6656\\643650401.py:2: RuntimeWarning: overflow encountered in exp\n",
      "  return 1/(1 + np.exp(-x))\n"
     ]
    }
   ],
   "source": [
    "plt.imshow(imgs[select])\n",
    "plt.show()\n",
    "print('prediction:', testnet.predict(imgs[select]))\n",
    "print('truth:', data[select][0])\n",
    "select+=1\n"
   ]
  },
  {
   "cell_type": "code",
   "execution_count": null,
   "id": "4e64d52d-5924-4886-adee-31a427c7c5ad",
   "metadata": {},
   "outputs": [],
   "source": []
  }
 ],
 "metadata": {
  "kernelspec": {
   "display_name": "Python 3 (ipykernel)",
   "language": "python",
   "name": "python3"
  },
  "language_info": {
   "codemirror_mode": {
    "name": "ipython",
    "version": 3
   },
   "file_extension": ".py",
   "mimetype": "text/x-python",
   "name": "python",
   "nbconvert_exporter": "python",
   "pygments_lexer": "ipython3",
   "version": "3.11.3"
  }
 },
 "nbformat": 4,
 "nbformat_minor": 5
}
